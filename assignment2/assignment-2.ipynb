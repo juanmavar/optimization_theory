{
 "cells": [
  {
   "cell_type": "code",
   "execution_count": 1,
   "id": "45d16618",
   "metadata": {
    "executionInfo": {
     "elapsed": 319,
     "status": "ok",
     "timestamp": 1695817709142,
     "user": {
      "displayName": "Juan Manuel Varela",
      "userId": "08476314478052743022"
     },
     "user_tz": 180
    },
    "id": "45d16618"
   },
   "outputs": [],
   "source": [
    "import numpy as np\n",
    "import matplotlib.pyplot as plt"
   ]
  },
  {
   "cell_type": "markdown",
   "id": "189967d5",
   "metadata": {
    "id": "189967d5"
   },
   "source": [
    "## Ejercicio 4"
   ]
  },
  {
   "cell_type": "code",
   "execution_count": 2,
   "id": "d76e1cf4",
   "metadata": {
    "executionInfo": {
     "elapsed": 5,
     "status": "ok",
     "timestamp": 1695817709471,
     "user": {
      "displayName": "Juan Manuel Varela",
      "userId": "08476314478052743022"
     },
     "user_tz": 180
    },
    "id": "d76e1cf4"
   },
   "outputs": [],
   "source": [
    "A = np.loadtxt('data/A.txt')\n",
    "B = np.loadtxt('data/B.txt')\n",
    "C = np.loadtxt('data/C.txt')\n",
    "alpha = np.loadtxt('data/alpha.txt')\n",
    "beta = np.loadtxt('data/beta.txt')\n",
    "gamma = np.loadtxt('data/gamma.txt')"
   ]
  },
  {
   "cell_type": "markdown",
   "id": "da09330c",
   "metadata": {
    "id": "da09330c"
   },
   "source": [
    "### Parte a)"
   ]
  },
  {
   "cell_type": "code",
   "execution_count": 3,
   "id": "54bShnplkRg_",
   "metadata": {
    "colab": {
     "base_uri": "https://localhost:8080/"
    },
    "executionInfo": {
     "elapsed": 471,
     "status": "ok",
     "timestamp": 1695817709937,
     "user": {
      "displayName": "Juan Manuel Varela",
      "userId": "08476314478052743022"
     },
     "user_tz": 180
    },
    "id": "54bShnplkRg_",
    "outputId": "447cdcc8-d4d7-49a2-a9bd-92e1926887a0"
   },
   "outputs": [
    {
     "data": {
      "text/plain": [
       "array([-0.45209767, -0.11645923, -0.00416928, -0.06615063,  0.15325308,\n",
       "        0.12561526, -0.0518167 , -0.00062787, -0.04588603,  0.00636417])"
      ]
     },
     "execution_count": 3,
     "metadata": {},
     "output_type": "execute_result"
    }
   ],
   "source": [
    "x_opt = np.linalg.inv(A.T @ A + B.T @ B + C.T @ C) @ (A.T @ alpha + B.T @ beta + C.T @ gamma)\n",
    "x_opt"
   ]
  },
  {
   "cell_type": "markdown",
   "id": "05eb086d",
   "metadata": {
    "id": "05eb086d"
   },
   "source": [
    "### Parte b)"
   ]
  },
  {
   "cell_type": "code",
   "execution_count": 4,
   "id": "768ae16e",
   "metadata": {
    "executionInfo": {
     "elapsed": 9,
     "status": "ok",
     "timestamp": 1695817709938,
     "user": {
      "displayName": "Juan Manuel Varela",
      "userId": "08476314478052743022"
     },
     "user_tz": 180
    },
    "id": "768ae16e"
   },
   "outputs": [],
   "source": [
    "n = A.shape[0]\n",
    "\n",
    "# Composicion de D\n",
    "D = np.zeros((3*n, 3*n))\n",
    "D[0:n,0:n]=A\n",
    "D[n:2*n,n:2*n]=B\n",
    "D[2*n:3*n,2*n:3*n]=C\n",
    "\n",
    "I = np.identity(n)\n",
    "\n",
    "# Composicion de H\n",
    "H = np.zeros((2*n, 3*n))\n",
    "H[0:n, 0:n] = I\n",
    "H[0:n, n:2*n] = -I\n",
    "H[n:2*n, n:2*n] = I\n",
    "H[n:2*n, 2*n:3*n] = -I\n",
    "\n",
    "# Composicion de delta\n",
    "delta = np.zeros(3*n)\n",
    "delta[0:n] = alpha\n",
    "delta[n:2*n] = beta\n",
    "delta[2*n:3*n] = gamma"
   ]
  },
  {
   "cell_type": "markdown",
   "id": "b1bdd4ec",
   "metadata": {
    "id": "b1bdd4ec"
   },
   "source": [
    "### Parte c)"
   ]
  },
  {
   "cell_type": "code",
   "execution_count": 5,
   "id": "fe96f64f",
   "metadata": {
    "colab": {
     "base_uri": "https://localhost:8080/"
    },
    "executionInfo": {
     "elapsed": 8,
     "status": "ok",
     "timestamp": 1695817709938,
     "user": {
      "displayName": "Juan Manuel Varela",
      "userId": "08476314478052743022"
     },
     "user_tz": 180
    },
    "id": "fe96f64f",
    "outputId": "0f05beec-1ac5-4700-db47-e170121fd55a"
   },
   "outputs": [
    {
     "data": {
      "text/plain": [
       "array([ -35.5039017 ,  -58.13500458,  -49.5687729 ,   -6.00575292,\n",
       "        -20.74913018,  -25.67972695,  -39.77207172,  -42.25391356,\n",
       "        -37.92853762,  -69.8592178 ,   43.96561715,  -16.9286349 ,\n",
       "        -36.54879524,  -20.9741974 ,  -24.17324522,  -90.33607098,\n",
       "       -151.8607936 ,  -25.27311201, -111.95744081,  -24.69133404])"
      ]
     },
     "execution_count": 5,
     "metadata": {},
     "output_type": "execute_result"
    }
   ],
   "source": [
    "lambda_opt = np.linalg.inv(H @ np.linalg.inv(D.T @ D) @ H.T) @ H @ np.linalg.inv(D.T @ D) @ D.T @ delta\n",
    "lambda_opt"
   ]
  },
  {
   "cell_type": "markdown",
   "id": "pJSLyideoRf2",
   "metadata": {
    "id": "pJSLyideoRf2"
   },
   "source": [
    "### Parte e)"
   ]
  },
  {
   "cell_type": "code",
   "execution_count": 6,
   "id": "632c588b",
   "metadata": {
    "colab": {
     "base_uri": "https://localhost:8080/"
    },
    "executionInfo": {
     "elapsed": 5,
     "status": "ok",
     "timestamp": 1695817709938,
     "user": {
      "displayName": "Juan Manuel Varela",
      "userId": "08476314478052743022"
     },
     "user_tz": 180
    },
    "id": "632c588b",
    "outputId": "20961f2d-35cf-4a66-82d2-e2d9c3702623"
   },
   "outputs": [
    {
     "name": "stdout",
     "output_type": "stream",
     "text": [
      "Iteraciones:  2\n",
      "x_final:  [-0.45209767 -0.11645923 -0.00416928 -0.06615063  0.15325308  0.12561526\n",
      " -0.0518167  -0.00062787 -0.04588603  0.00636417]\n",
      "epsilon_k:  1.0873777479461771e-11\n"
     ]
    }
   ],
   "source": [
    "# Multiplicador base\n",
    "tau_0 = 1/ np.linalg.norm(D, 2)\n",
    "\n",
    "# Maximo de iteraciones\n",
    "k_max = 100\n",
    "\n",
    "# Condicion de parada (diferencia relativa de entre iterandos)\n",
    "epsilon_max = 1e-8\n",
    "\n",
    "# Inicializo w, epsilon y k\n",
    "w_prev = np.zeros(3*n)\n",
    "epsilon_k = np.inf\n",
    "k=0\n",
    "\n",
    "# Lista para almacenar x_k\n",
    "x_k_lista1 = []\n",
    "\n",
    "while k < k_max and epsilon_k > epsilon_max:\n",
    "    # Calculo tau para esta iteracion\n",
    "    tau_k = tau_0 * (2**k)\n",
    "\n",
    "    # Calculo w para esta iteracion\n",
    "    w_k = np.linalg.inv(D.T @ D + tau_k * H.T @ H) @ (D.T @ delta - H.T @ lambda_opt)\n",
    "\n",
    "    # Calculo la diferencia relativa entre iterandos\n",
    "    epsilon_k = np.linalg.norm(w_k - w_prev) / np.linalg.norm(w_k)\n",
    "\n",
    "    # Cálculo de x_k como el promedio de las entradas de w_k\n",
    "    x_k = (w_k[0:10] + w_k[10:20] + w_k[20:30]) / 3\n",
    "    x_k_lista1.append(x_k)\n",
    "\n",
    "    # Actualizo valores\n",
    "    w_prev = w_k\n",
    "    k += 1\n",
    "\n",
    "iteraciones1= k\n",
    "\n",
    "print(\"Iteraciones: \", iteraciones1)\n",
    "\n",
    "print(\"x_final: \", x_k)\n",
    "\n",
    "print(\"epsilon_k: \", epsilon_k)\n"
   ]
  },
  {
   "cell_type": "markdown",
   "id": "lDx8SC-m84iM",
   "metadata": {
    "id": "lDx8SC-m84iM"
   },
   "source": [
    "### Parte f)"
   ]
  },
  {
   "cell_type": "code",
   "execution_count": 7,
   "id": "6e488110",
   "metadata": {
    "colab": {
     "base_uri": "https://localhost:8080/"
    },
    "executionInfo": {
     "elapsed": 4,
     "status": "ok",
     "timestamp": 1695817709938,
     "user": {
      "displayName": "Juan Manuel Varela",
      "userId": "08476314478052743022"
     },
     "user_tz": 180
    },
    "id": "6e488110",
    "outputId": "3b515d55-45fd-48e8-dfef-8381d5dba76f"
   },
   "outputs": [
    {
     "name": "stdout",
     "output_type": "stream",
     "text": [
      "Iteraciones:  42\n",
      "x_final:  [-0.45209767 -0.11645923 -0.00416928 -0.06615063  0.15325307  0.12561526\n",
      " -0.0518167  -0.00062787 -0.04588603  0.00636417]\n",
      "epsilon_k:  9.37962578237196e-09\n"
     ]
    }
   ],
   "source": [
    "# Inicializo w, epsilon y k\n",
    "w_prev = np.zeros(3*n)\n",
    "epsilon_k = np.inf\n",
    "k=0\n",
    "\n",
    "# Lista para almacenar x_k\n",
    "x_k_lista2 = []\n",
    "\n",
    "while k < k_max and epsilon_k > epsilon_max:\n",
    "    # Calculo tau para esta iteracion\n",
    "    tau_k = tau_0 * (2**k)\n",
    "\n",
    "    # Calculo w para esta iteracion considerando lambda=0\n",
    "    w_k = np.linalg.inv(D.T @ D + tau_k * H.T @ H) @ (D.T @ delta)\n",
    "\n",
    "    # Calculo la diferencia relativa entre iterandos\n",
    "    epsilon_k = np.linalg.norm(w_k - w_prev) / np.linalg.norm(w_k)\n",
    "\n",
    "    # Cálculo de x_k como el promedio de las entradas de w_k\n",
    "    x_k = (w_k[0:10] + w_k[10:20] + w_k[20:30]) / 3\n",
    "    x_k_lista2.append(x_k)\n",
    "\n",
    "    # Actualizo valores\n",
    "    w_prev = w_k\n",
    "    k += 1\n",
    "\n",
    "iteraciones2 = k\n",
    "\n",
    "print(\"Iteraciones: \", iteraciones2)\n",
    "\n",
    "print(\"x_final: \", x_k)\n",
    "\n",
    "print(\"epsilon_k: \", epsilon_k)"
   ]
  },
  {
   "cell_type": "markdown",
   "id": "jta6uAuH-py2",
   "metadata": {
    "id": "jta6uAuH-py2"
   },
   "source": [
    "### Parte g)"
   ]
  },
  {
   "cell_type": "markdown",
   "id": "9c6f5c5c",
   "metadata": {
    "id": "9c6f5c5c"
   },
   "source": [
    "$\\tau_k = 10 \\tau_0$"
   ]
  },
  {
   "cell_type": "code",
   "execution_count": 8,
   "id": "3aa30673",
   "metadata": {
    "colab": {
     "base_uri": "https://localhost:8080/"
    },
    "executionInfo": {
     "elapsed": 447,
     "status": "ok",
     "timestamp": 1695817710382,
     "user": {
      "displayName": "Juan Manuel Varela",
      "userId": "08476314478052743022"
     },
     "user_tz": 180
    },
    "id": "3aa30673",
    "outputId": "e5651799-5efe-4e21-9141-fde5c9c4d9c0"
   },
   "outputs": [
    {
     "name": "stdout",
     "output_type": "stream",
     "text": [
      "Iteraciones:  100\n",
      "x_final:  [ 0.49428732 -0.359564   -0.86401806 -0.27124434 -0.03539417  0.17024413\n",
      " -0.51730138  0.54697099  0.06391845 -0.08557211]\n",
      "epsilon_k:  0.008246323184209653\n"
     ]
    }
   ],
   "source": [
    "# Inicializo lambda, w, epsilon y k\n",
    "lambda_k = np.zeros(2*n)\n",
    "w_prev = np.zeros(3*n)\n",
    "epsilon_k = np.inf\n",
    "k=0\n",
    "\n",
    "# Fijo tau_k\n",
    "tau_k = 10 * tau_0\n",
    "\n",
    "# Lista para almacenar x_k\n",
    "x_k_lista3 = []\n",
    "\n",
    "while k < k_max and epsilon_k > epsilon_max:\n",
    "\n",
    "    # Calculo w para esta iteracion\n",
    "    w_k = np.linalg.inv(D.T @ D + tau_k * H.T @ H) @ (D.T @ delta - H.T @ lambda_k)\n",
    "\n",
    "    # Calculo la diferencia relativa entre iterandos\n",
    "    epsilon_k = np.linalg.norm(w_k - w_prev) / np.linalg.norm(w_k)\n",
    "\n",
    "    # Cálculo de x_k como el promedio de las entradas de w_k\n",
    "    x_k = (w_k[0:10] + w_k[10:20] + w_k[20:30]) / 3\n",
    "    x_k_lista3.append(x_k)\n",
    "\n",
    "    # Actualizo valores\n",
    "    lambda_k += tau_k * H @ w_k\n",
    "    w_prev = w_k\n",
    "    k += 1\n",
    "\n",
    "iteraciones3 = k\n",
    "\n",
    "print(\"Iteraciones: \", iteraciones3)\n",
    "\n",
    "print(\"x_final: \", x_k)\n",
    "\n",
    "print(\"epsilon_k: \", epsilon_k)"
   ]
  },
  {
   "cell_type": "markdown",
   "id": "9956ec59",
   "metadata": {
    "id": "9956ec59"
   },
   "source": [
    "$\\tau_k = 1000 \\tau_0$"
   ]
  },
  {
   "cell_type": "code",
   "execution_count": 9,
   "id": "41327fc3",
   "metadata": {
    "colab": {
     "base_uri": "https://localhost:8080/"
    },
    "executionInfo": {
     "elapsed": 5,
     "status": "ok",
     "timestamp": 1695817710382,
     "user": {
      "displayName": "Juan Manuel Varela",
      "userId": "08476314478052743022"
     },
     "user_tz": 180
    },
    "id": "41327fc3",
    "outputId": "3310a583-05d4-44ff-96a5-2fb58f3ae98d"
   },
   "outputs": [
    {
     "name": "stdout",
     "output_type": "stream",
     "text": [
      "Iteraciones:  100\n",
      "x_final:  [-0.45180941 -0.11718768 -0.00445706 -0.06611046  0.15273706  0.1260817\n",
      " -0.05162811 -0.0011988  -0.04811751  0.00630212]\n",
      "epsilon_k:  0.00033604526726502363\n"
     ]
    }
   ],
   "source": [
    "# Inicializo lambda, w, epsilon y k\n",
    "lambda_k = np.zeros(2*n)\n",
    "w_prev = np.zeros(3*n)\n",
    "epsilon_k = np.inf\n",
    "k=0\n",
    "\n",
    "# Fijo tau_k\n",
    "tau_k = 1000 * tau_0\n",
    "\n",
    "# Lista para almacenar x_k\n",
    "x_k_lista4 = []\n",
    "\n",
    "while k < k_max and epsilon_k > epsilon_max:\n",
    "\n",
    "    # Calculo w para esta iteracion\n",
    "    w_k = np.linalg.inv(D.T @ D + tau_k * H.T @ H) @ (D.T @ delta - H.T @ lambda_k)\n",
    "\n",
    "    # Calculo la diferencia relativa entre iterandos\n",
    "    epsilon_k = np.linalg.norm(w_k - w_prev) / np.linalg.norm(w_k)\n",
    "\n",
    "    # Cálculo de x_k como el promedio de las entradas de w_k\n",
    "    x_k = (w_k[0:10] + w_k[10:20] + w_k[20:30]) / 3\n",
    "    x_k_lista4.append(x_k)\n",
    "\n",
    "    # Actualizo valores\n",
    "    lambda_k += tau_k * H @ w_k\n",
    "    w_prev = w_k\n",
    "    k += 1\n",
    "\n",
    "iteraciones4 = k\n",
    "\n",
    "print(\"Iteraciones: \", iteraciones4)\n",
    "\n",
    "print(\"x_final: \", x_k)\n",
    "\n",
    "print(\"epsilon_k: \", epsilon_k)"
   ]
  },
  {
   "cell_type": "markdown",
   "id": "gM8qHWgSBaCk",
   "metadata": {
    "id": "gM8qHWgSBaCk"
   },
   "source": [
    "### parte h)"
   ]
  },
  {
   "cell_type": "code",
   "execution_count": 10,
   "id": "gx-GjYL2BQN7",
   "metadata": {
    "colab": {
     "base_uri": "https://localhost:8080/"
    },
    "executionInfo": {
     "elapsed": 4,
     "status": "ok",
     "timestamp": 1695817710382,
     "user": {
      "displayName": "Juan Manuel Varela",
      "userId": "08476314478052743022"
     },
     "user_tz": 180
    },
    "id": "gx-GjYL2BQN7",
    "outputId": "94310d6e-7dfe-4d3f-cc5b-a682609974c8"
   },
   "outputs": [
    {
     "name": "stdout",
     "output_type": "stream",
     "text": [
      "Iteraciones:  23\n",
      "x_final:  [-0.45209767 -0.11645923 -0.00416928 -0.06615063  0.15325308  0.12561526\n",
      " -0.0518167  -0.00062787 -0.04588603  0.00636417]\n",
      "epsilon_k:  1.9359935029953512e-09\n"
     ]
    }
   ],
   "source": [
    "# Inicializo lambda, w, epsilon y k\n",
    "lambda_k = np.zeros(2*n)\n",
    "w_prev = np.zeros(3*n)\n",
    "epsilon_k = np.inf\n",
    "k=0\n",
    "\n",
    "# Lista para almacenar x_k\n",
    "x_k_lista5 = []\n",
    "\n",
    "while k < k_max and epsilon_k > epsilon_max:\n",
    "    # Calculo tau para esta iteracion\n",
    "    tau_k = tau_0 * (2**k)\n",
    "\n",
    "    # Calculo w para esta iteracion\n",
    "    w_k = np.linalg.inv(D.T @ D + tau_k * H.T @ H) @ (D.T @ delta - H.T @ lambda_k)\n",
    "\n",
    "    # Calculo la diferencia relativa entre iterandos\n",
    "    epsilon_k = np.linalg.norm(w_k - w_prev) / np.linalg.norm(w_k)\n",
    "\n",
    "    # Cálculo de x_k como el promedio de las entradas de w_k\n",
    "    x_k = (w_k[0:10] + w_k[10:20] + w_k[20:30]) / 3\n",
    "    x_k_lista5.append(x_k)\n",
    "\n",
    "    # Actualizo valores\n",
    "    lambda_k += tau_k * H @ w_k\n",
    "    w_prev = w_k\n",
    "    k += 1\n",
    "\n",
    "iteraciones5 = k\n",
    "\n",
    "print(\"Iteraciones: \", iteraciones5)\n",
    "\n",
    "print(\"x_final: \", x_k)\n",
    "\n",
    "print(\"epsilon_k: \", epsilon_k)"
   ]
  },
  {
   "cell_type": "markdown",
   "id": "e540328e",
   "metadata": {
    "id": "e540328e"
   },
   "source": [
    "### Gráfica de convergencia"
   ]
  },
  {
   "cell_type": "code",
   "execution_count": 11,
   "id": "934f60c0",
   "metadata": {
    "executionInfo": {
     "elapsed": 3,
     "status": "ok",
     "timestamp": 1695817710382,
     "user": {
      "displayName": "Juan Manuel Varela",
      "userId": "08476314478052743022"
     },
     "user_tz": 180
    },
    "id": "934f60c0"
   },
   "outputs": [],
   "source": [
    "valores1 = np.linalg.norm(x_k_lista1 - x_opt, axis=1) / np.linalg.norm(x_opt)\n",
    "valores2 = np.linalg.norm(x_k_lista2 - x_opt, axis=1) / np.linalg.norm(x_opt)\n",
    "valores3 = np.linalg.norm(x_k_lista3 - x_opt, axis=1) / np.linalg.norm(x_opt)\n",
    "valores4 = np.linalg.norm(x_k_lista4 - x_opt, axis=1) / np.linalg.norm(x_opt)\n",
    "valores5 = np.linalg.norm(x_k_lista5 - x_opt, axis=1) / np.linalg.norm(x_opt)"
   ]
  },
  {
   "cell_type": "code",
   "execution_count": 12,
   "id": "df42c371",
   "metadata": {
    "colab": {
     "base_uri": "https://localhost:8080/",
     "height": 489
    },
    "executionInfo": {
     "elapsed": 1639,
     "status": "ok",
     "timestamp": 1695817712018,
     "user": {
      "displayName": "Juan Manuel Varela",
      "userId": "08476314478052743022"
     },
     "user_tz": 180
    },
    "id": "df42c371",
    "outputId": "3ffe4e0f-0e91-4559-e302-fe3f330a8151"
   },
   "outputs": [
    {
     "data": {
      "text/plain": [
       "<matplotlib.legend.Legend at 0x1d4b167e430>"
      ]
     },
     "execution_count": 12,
     "metadata": {},
     "output_type": "execute_result"
    },
    {
     "data": {
      "image/png": "[encoded data removed]",
      "text/plain": [
       "<Figure size 640x480 with 1 Axes>"
      ]
     },
     "metadata": {},
     "output_type": "display_data"
    }
   ],
   "source": [
    "plt.figure()\n",
    "plt.xlim(0,100)\n",
    "\n",
    "\n",
    "plt.semilogy(range(1,iteraciones1+1), valores1, color = 'r', label= \"parte e)\")\n",
    "plt.semilogy(range(1,iteraciones2+1), valores2, color = 'b', label= \"parte f)\")\n",
    "plt.semilogy(range(1,iteraciones3+1), valores3, color = 'c', label= \"parte g.1)\")\n",
    "plt.semilogy(range(1,iteraciones4+1), valores4, color = 'm', label= \"parte g.2)\")\n",
    "plt.semilogy(range(1,iteraciones5+1), valores5, color = 'g', label= \"parte h)\")\n",
    "\n",
    "plt.grid(\"On\")\n",
    "plt.title(\"Comparación de convergencia\")\n",
    "plt.ylabel(\"Distancia relativa con x*\")\n",
    "plt.xlabel(\"Iteraciones\")\n",
    "\n",
    "plt.legend()\n"
   ]
  },
  {
   "cell_type": "code",
   "execution_count": null,
   "id": "832876b1",
   "metadata": {},
   "outputs": [],
   "source": []
  }
 ],
 "metadata": {
  "colab": {
   "provenance": []
  },
  "kernelspec": {
   "display_name": "Python 3 (ipykernel)",
   "language": "python",
   "name": "python3"
  },
  "language_info": {
   "codemirror_mode": {
    "name": "ipython",
    "version": 3
   },
   "file_extension": ".py",
   "mimetype": "text/x-python",
   "name": "python",
   "nbconvert_exporter": "python",
   "pygments_lexer": "ipython3",
   "version": "3.9.13"
  }
 },
 "nbformat": 4,
 "nbformat_minor": 5
}
